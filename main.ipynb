{
 "cells": [
  {
   "cell_type": "markdown",
   "metadata": {},
   "source": [
    "# Trabalho Computacional 3. Rede Convolucional e Transfer Learning\n",
    "\n",
    "## 1. Introdução e Base de Dados\n",
    "\n",
    "Neste trabalho usaremos uma rede convolucional pré-treinada e a aplicaremos em um problema novo. Também experimentaremos com a\n",
    "divisão da base em treinamento, validação e teste, e usaremos o conjunto de validação para a técnica \"early stopping\", na tentativa de controlar o sobre-ajuste.\n",
    "\n",
    "A base de dados é a [CIFAR10](https://www.cs.toronto.edu/~kriz/cifar.html). Ela contém 60000 imagens 32x32 coloridas (3 canais) das seguintes categorias de objetos: ‘airplane’, ‘automobile’, ‘bird’, ‘cat’, ‘deer’, ‘dog’, ‘frog’, ‘horse’, ‘ship’, ‘truck’.\n",
    "\n",
    "Ela pode ser baixada com o código abaixo."
   ]
  },
  {
   "cell_type": "code",
   "execution_count": 1,
   "metadata": {},
   "outputs": [],
   "source": [
    "import torch\n",
    "import torchvision\n",
    "import torchvision.transforms as transforms"
   ]
  },
  {
   "cell_type": "code",
   "execution_count": 2,
   "metadata": {
    "colab": {
     "base_uri": "https://localhost:8080/",
     "height": 84,
     "referenced_widgets": [
      "337cb9bac56348ecb28cf342cbf6b204",
      "efd38707eb0a4ac4b875626cd1f89eed",
      "ccd55a62cefb468c8a2483fd840744ad",
      "006e39be5baa48efa5f6a764794ac88a",
      "56a44b3f23a145599a1ead5f4863ae5a",
      "f2014973acc24cc0a2b740e53557f1b7",
      "1cfef9f82b7d49898c0e8ae5846d4f29",
      "89dc8b13a44748378faca300b8431842",
      "e7973d1aef464f82a1b24f67028f5720",
      "831cd354b1e940029462d8ca6bbbb2da",
      "522ff35e6a3b48789e4f907fa64c6267"
     ]
    },
    "executionInfo": {
     "elapsed": 14971,
     "status": "ok",
     "timestamp": 1699914359672,
     "user": {
      "displayName": "Alexandre Romariz",
      "userId": "08294063804806616136"
     },
     "user_tz": 180
    },
    "id": "Ef2uTTEXumSC",
    "outputId": "ba7d59ee-bfbe-46df-bc71-c915f27d5b57"
   },
   "outputs": [
    {
     "name": "stdout",
     "output_type": "stream",
     "text": [
      "Number of training examples: 40000\n",
      "Number of validation examples: 10000\n",
      "Number of test examples: 10000\n"
     ]
    }
   ],
   "source": [
    "class CIFAR10():  #@save    \n",
    "    def __init__(self, root, resize=(224, 224)):    \n",
    "        trans = transforms.Compose([transforms.Resize(resize),\n",
    "                                    transforms.ToTensor(),\n",
    "                                    transforms.Normalize((0.5, 0.5, 0.5), (0.5, 0.5, 0.5))])\n",
    "        self.train = torchvision.datasets.CIFAR10(\n",
    "            root=root, train=True, transform=trans, download=True)\n",
    "        # use 20% of training data for validation\n",
    "        train_set_size = int(len(self.train) * 0.8)\n",
    "        valid_set_size = len(self.train) - train_set_size\n",
    "         # split the train set into two\n",
    "        seed = torch.Generator().manual_seed(42)\n",
    "        self.train, self.val = torch.utils.data.random_split(self.train, [train_set_size, valid_set_size], generator=seed)\n",
    "        self.test = torchvision.datasets.CIFAR10(\n",
    "            root=root, train=False, transform=trans, download=True)\n",
    "        \n",
    "dataset = CIFAR10(root=\"./data/\")\n",
    "\n",
    "train_dataloader = torch.utils.data.DataLoader(dataset.train, batch_size=64, shuffle=True, num_workers=5)\n",
    "val_dataloader = torch.utils.data.DataLoader(dataset.val, batch_size=64, shuffle=False, num_workers=3)\n",
    "test_dataloader = torch.utils.data.DataLoader(dataset.test, batch_size=64, shuffle=False, num_workers=3)\n",
    "\n",
    "print(f\"Number of training examples: {len(dataset.train)}\")\n",
    "print(f\"Number of validation examples: {len(dataset.val)}\")\n",
    "print(f\"Number of test examples: {len(dataset.test)}\")"
   ]
  },
  {
   "cell_type": "markdown",
   "metadata": {},
   "source": [
    "Observe como foi feita a separação de 10.000 exemplos do conjunto de treinamento original para serem o conjunto de validação. Dessa forma, temos ao final 40.000 exemplos para treinamento, 10.000 exemplos para validação e 10.000 exemplos para teste, com os seus respectivos `DataLoader`'s instanciados.\n",
    "\n",
    "Também redimensionamos as imagens para 224x224pixels, já preparando o dado para a posterior aplicação na rede convolucional.\n",
    "\n",
    "## 2. Treinando um MLP\n",
    "\n",
    "Use esta base de dados para treinar um Perceptron Multicamadas, como feito no trabalho anterior com a base MNIST. Escolha um MLP com 2 camadas escondidas. Não perca muito tempo variando a arquitetura porque este problema é difícil sem o uso de convoluções e o resultado não será totalmente satisfatório.\n",
    "\n",
    "Você pode usar este código, baseado na biblioteca [Pytorch Lightning](https://lightning.ai/docs/pytorch/stable/) como base para definição da rede:"
   ]
  },
  {
   "cell_type": "code",
   "execution_count": 3,
   "metadata": {
    "scrolled": true
   },
   "outputs": [
    {
     "name": "stdout",
     "output_type": "stream",
     "text": [
      "Requirement already satisfied: pytorch-lightning in c:\\python311\\lib\\site-packages (2.5.1.post0)\n",
      "Requirement already satisfied: torch>=2.1.0 in c:\\python311\\lib\\site-packages (from pytorch-lightning) (2.7.1)\n",
      "Requirement already satisfied: tqdm>=4.57.0 in c:\\python311\\lib\\site-packages (from pytorch-lightning) (4.67.1)\n",
      "Requirement already satisfied: PyYAML>=5.4 in c:\\python311\\lib\\site-packages (from pytorch-lightning) (6.0.2)\n",
      "Requirement already satisfied: fsspec[http]>=2022.5.0 in c:\\python311\\lib\\site-packages (from pytorch-lightning) (2025.5.1)\n",
      "Requirement already satisfied: torchmetrics>=0.7.0 in c:\\python311\\lib\\site-packages (from pytorch-lightning) (1.7.2)\n",
      "Requirement already satisfied: packaging>=20.0 in c:\\users\\tucol\\appdata\\roaming\\python\\python311\\site-packages (from pytorch-lightning) (25.0)\n",
      "Requirement already satisfied: typing-extensions>=4.4.0 in c:\\python311\\lib\\site-packages (from pytorch-lightning) (4.14.0)\n",
      "Requirement already satisfied: lightning-utilities>=0.10.0 in c:\\python311\\lib\\site-packages (from pytorch-lightning) (0.14.3)\n",
      "Requirement already satisfied: aiohttp!=4.0.0a0,!=4.0.0a1 in c:\\python311\\lib\\site-packages (from fsspec[http]>=2022.5.0->pytorch-lightning) (3.12.12)\n",
      "Requirement already satisfied: setuptools in c:\\python311\\lib\\site-packages (from lightning-utilities>=0.10.0->pytorch-lightning) (65.5.0)\n",
      "Requirement already satisfied: filelock in c:\\python311\\lib\\site-packages (from torch>=2.1.0->pytorch-lightning) (3.18.0)\n",
      "Requirement already satisfied: sympy>=1.13.3 in c:\\python311\\lib\\site-packages (from torch>=2.1.0->pytorch-lightning) (1.14.0)\n",
      "Requirement already satisfied: networkx in c:\\python311\\lib\\site-packages (from torch>=2.1.0->pytorch-lightning) (3.5)\n",
      "Requirement already satisfied: jinja2 in c:\\python311\\lib\\site-packages (from torch>=2.1.0->pytorch-lightning) (3.1.6)\n",
      "Requirement already satisfied: numpy>1.20.0 in c:\\python311\\lib\\site-packages (from torchmetrics>=0.7.0->pytorch-lightning) (2.3.0)\n",
      "Requirement already satisfied: colorama in c:\\users\\tucol\\appdata\\roaming\\python\\python311\\site-packages (from tqdm>=4.57.0->pytorch-lightning) (0.4.6)\n",
      "Requirement already satisfied: aiohappyeyeballs>=2.5.0 in c:\\python311\\lib\\site-packages (from aiohttp!=4.0.0a0,!=4.0.0a1->fsspec[http]>=2022.5.0->pytorch-lightning) (2.6.1)\n",
      "Requirement already satisfied: aiosignal>=1.1.2 in c:\\python311\\lib\\site-packages (from aiohttp!=4.0.0a0,!=4.0.0a1->fsspec[http]>=2022.5.0->pytorch-lightning) (1.3.2)\n",
      "Requirement already satisfied: attrs>=17.3.0 in c:\\python311\\lib\\site-packages (from aiohttp!=4.0.0a0,!=4.0.0a1->fsspec[http]>=2022.5.0->pytorch-lightning) (25.3.0)\n",
      "Requirement already satisfied: frozenlist>=1.1.1 in c:\\python311\\lib\\site-packages (from aiohttp!=4.0.0a0,!=4.0.0a1->fsspec[http]>=2022.5.0->pytorch-lightning) (1.7.0)\n",
      "Requirement already satisfied: multidict<7.0,>=4.5 in c:\\python311\\lib\\site-packages (from aiohttp!=4.0.0a0,!=4.0.0a1->fsspec[http]>=2022.5.0->pytorch-lightning) (6.4.4)\n",
      "Requirement already satisfied: propcache>=0.2.0 in c:\\python311\\lib\\site-packages (from aiohttp!=4.0.0a0,!=4.0.0a1->fsspec[http]>=2022.5.0->pytorch-lightning) (0.3.2)\n",
      "Requirement already satisfied: yarl<2.0,>=1.17.0 in c:\\python311\\lib\\site-packages (from aiohttp!=4.0.0a0,!=4.0.0a1->fsspec[http]>=2022.5.0->pytorch-lightning) (1.20.1)\n",
      "Requirement already satisfied: mpmath<1.4,>=1.1.0 in c:\\python311\\lib\\site-packages (from sympy>=1.13.3->torch>=2.1.0->pytorch-lightning) (1.3.0)\n",
      "Requirement already satisfied: MarkupSafe>=2.0 in c:\\python311\\lib\\site-packages (from jinja2->torch>=2.1.0->pytorch-lightning) (3.0.2)\n",
      "Requirement already satisfied: idna>=2.0 in c:\\python311\\lib\\site-packages (from yarl<2.0,>=1.17.0->aiohttp!=4.0.0a0,!=4.0.0a1->fsspec[http]>=2022.5.0->pytorch-lightning) (3.10)\n",
      "Note: you may need to restart the kernel to use updated packages.\n"
     ]
    },
    {
     "name": "stderr",
     "output_type": "stream",
     "text": [
      "\n",
      "[notice] A new release of pip available: 22.3 -> 25.1.1\n",
      "[notice] To update, run: python.exe -m pip install --upgrade pip\n"
     ]
    }
   ],
   "source": [
    "%pip install pytorch-lightning\n",
    "import pytorch_lightning as pl\n",
    "import torch.nn as nn\n",
    "from torchmetrics.functional import accuracy\n",
    "\n",
    "# The model is passed as an argument to the `LightModel` class.\n",
    "class LightModel(pl.LightningModule):\n",
    "\tdef __init__(self,model,lr=1e-5):\n",
    "\t\tsuper().__init__()\n",
    "\t\tself.model = model\n",
    "\t\tself.lr = lr\n",
    "\tdef training_step(self, batch):\n",
    "\t\tX, y = batch\n",
    "\t\ty_hat = self.model(X)\n",
    "\t\tloss = nn.functional.cross_entropy(y_hat, y)\n",
    "\t\tself.log(\"train_loss\", loss)\n",
    "\t\treturn loss\n",
    "\tdef validation_step(self, batch):\n",
    "\t\tX, y = batch\n",
    "\t\ty_hat = self.model(X)\n",
    "\t\tloss = nn.functional.cross_entropy(y_hat, y)\n",
    "\t\tself.log(\"val_loss\", loss)\n",
    "\t\treturn loss\n",
    "\tdef test_step(self, batch):\n",
    "\t\tX, y = batch\n",
    "\t\ty_hat = self.model(X)\n",
    "\t\tpreds = torch.argmax(y_hat, dim=1)\n",
    "\t\tacc = accuracy(preds, y, task=\"multiclass\", num_classes=10)\n",
    "\t\tself.log(\"test_acc\", acc)\n",
    "\t\tloss = nn.functional.cross_entropy(y_hat, y)\t\t\n",
    "\t\tself.log(\"test_loss\", loss)\t\t\n",
    "\tdef configure_optimizers(self):\n",
    "\t\toptimizer = torch.optim.Adam(self.parameters(), self.lr)\n",
    "\t\treturn optimizer\n",
    "\n",
    "\n",
    "arch = nn.Sequential(\n",
    "\t\t\tnn.Flatten(),\n",
    "\t\t\tnn.Linear(3*224*224, 512),\n",
    "\t\t\tnn.ReLU(),\n",
    "\t\t\tnn.Linear(512,128),\n",
    "\t\t\tnn.ReLU(),\n",
    "\t\t\tnn.Linear(128,10)\t\n",
    "\t)\n",
    "\n",
    "mlp = LightModel(arch)"
   ]
  },
  {
   "cell_type": "markdown",
   "metadata": {},
   "source": [
    "### Callback personalizada: LastNCheckpoints\n",
    "\n",
    "A célula define a classe `LastNCheckpoints`, que herda de `ModelCheckpoint` do PyTorch Lightning. Ela serve para manter apenas os **N últimos checkpoints** do treinamento, apagando automaticamente os mais antigos após cada validação. Isso evita o acúmulo excessivo de arquivos de checkpoint no disco, facilitando o gerenciamento de espaço.\n",
    "\n",
    "**Como funciona:**\n",
    "- No final de cada validação (`on_validation_end`), a classe busca todos os arquivos `.ckpt` no diretório de checkpoints.\n",
    "- Ordena os arquivos por data de modificação.\n",
    "- Remove os checkpoints mais antigos, mantendo apenas os `keep_last_n` mais recentes.\n",
    "\n",
    "Essa abordagem é útil para economizar espaço em disco durante experimentos longos ou com muitos checkpoints salvos."
   ]
  },
  {
   "cell_type": "code",
   "execution_count": 4,
   "metadata": {},
   "outputs": [],
   "source": [
    "from pytorch_lightning.callbacks import ModelCheckpoint\n",
    "import os\n",
    "import glob\n",
    "\n",
    "class LastNCheckpoints(ModelCheckpoint):\n",
    "    def __init__(self, keep_last_n=5, *args, **kwargs):\n",
    "        super().__init__(*args, **kwargs)\n",
    "        self.keep_last_n = keep_last_n\n",
    "\n",
    "    def on_validation_end(self, trainer, pl_module):\n",
    "        super().on_validation_end(trainer, pl_module)\n",
    "\n",
    "        # Clean up old checkpoints\n",
    "        all_ckpts = sorted(\n",
    "            glob.glob(os.path.join(self.dirpath, \"*.ckpt\")),\n",
    "            key=os.path.getmtime\n",
    "        )\n",
    "        if len(all_ckpts) > self.keep_last_n:\n",
    "            for ckpt in all_ckpts[:-self.keep_last_n]:\n",
    "                os.remove(ckpt)\n"
   ]
  },
  {
   "cell_type": "markdown",
   "metadata": {},
   "source": [
    "Observe que as imagens são achatadas (transformadas em vetor). Substitua as interrogações pelo tamanho desejado das camadas\n",
    "escondidas.\n",
    "\n",
    "Neste problema vamos verificar o fenômeno do sobreajuste, e vamos tentar equilibrá-lo pela técnica de parada prematura de treinamento (early-stopping).\n",
    "Por isso foi necessário, a partir dos dados de treinamento, fazer uma nova separação para validação. Quando a função custo (`loss`) no conjunto de validação não diminui num dado número de épocas (o parâmetro `patience`), o treinamento é interrompido. Este trecho de código pode ser útil:"
   ]
  },
  {
   "cell_type": "markdown",
   "metadata": {},
   "source": [
    "### Treinamento com Early Stopping e Checkpoints\n",
    "\n",
    "Esta célula configura o treinamento do MLP usando PyTorch Lightning, com duas callbacks principais:\n",
    "\n",
    "- **EarlyStopping:** Interrompe o treinamento automaticamente se a métrica de validação (`val_loss`) não melhorar após um número definido de épocas (`patience=5`). Isso ajuda a evitar sobreajuste.\n",
    "- **LastNCheckpoints:** Salva checkpoints do modelo a cada época, mas mantém apenas os N mais recentes, economizando espaço em disco.\n",
    "\n",
    "O código permite alternar entre treinar o modelo (`TRAIN=True`) ou carregar um checkpoint salvo para análise e avaliação. Após o treinamento ou carregamento, o modelo é colocado em modo de avaliação."
   ]
  },
  {
   "cell_type": "code",
   "execution_count": 5,
   "metadata": {
    "scrolled": true
   },
   "outputs": [
    {
     "name": "stderr",
     "output_type": "stream",
     "text": [
      "GPU available: False, used: False\n",
      "TPU available: False, using: 0 TPU cores\n",
      "HPU available: False, using: 0 HPUs\n",
      "c:\\Python311\\Lib\\site-packages\\pytorch_lightning\\trainer\\connectors\\logger_connector\\logger_connector.py:76: Starting from v1.9.0, `tensorboardX` has been removed as a dependency of the `pytorch_lightning` package, due to potential conflicts with other packages in the ML ecosystem. For this reason, `logger=True` will use `CSVLogger` as the default logger, unless the `tensorboard` or `tensorboardX` packages are found. Please `pip install lightning[extra]` or one of them to enable TensorBoard support by default\n"
     ]
    },
    {
     "name": "stdout",
     "output_type": "stream",
     "text": [
      "LOADING MODEL\n",
      "  | Name    | Type       | Params | Mode \n",
      "-----------------------------------------------\n",
      "0 | model   | Sequential | 77.1 M | train\n",
      "1 | model.0 | Flatten    | 0      | train\n",
      "2 | model.1 | Linear     | 77.1 M | train\n",
      "3 | model.2 | ReLU       | 0      | train\n",
      "4 | model.3 | Linear     | 65.7 K | train\n",
      "5 | model.4 | ReLU       | 0      | train\n",
      "6 | model.5 | Linear     | 1.3 K  | train\n",
      "-----------------------------------------------\n",
      "77.1 M    Trainable params\n",
      "0         Non-trainable params\n",
      "77.1 M    Total params\n",
      "308.551   Total estimated model params size (MB)\n",
      "7         Modules in train mode\n",
      "0         Modules in eval mode\n"
     ]
    },
    {
     "data": {
      "text/plain": [
       "LightModel(\n",
       "  (model): Sequential(\n",
       "    (0): Flatten(start_dim=1, end_dim=-1)\n",
       "    (1): Linear(in_features=150528, out_features=512, bias=True)\n",
       "    (2): ReLU()\n",
       "    (3): Linear(in_features=512, out_features=128, bias=True)\n",
       "    (4): ReLU()\n",
       "    (5): Linear(in_features=128, out_features=10, bias=True)\n",
       "  )\n",
       ")"
      ]
     },
     "execution_count": 5,
     "metadata": {},
     "output_type": "execute_result"
    }
   ],
   "source": [
    "from pytorch_lightning.callbacks import EarlyStopping, ModelCheckpoint\n",
    "from pytorch_lightning import Trainer\n",
    "from pytorch_lightning.utilities.model_summary import summarize\n",
    "\n",
    "checkpoint = LastNCheckpoints(\n",
    "    dirpath='model1_checkpoints/',\n",
    "    filename='{epoch:02d}-{val_loss:.4f}',\n",
    "    every_n_epochs=1,  # Save every epoch\n",
    "    save_top_k=-1  # Save ALL checkpoints\n",
    ")\n",
    "\n",
    "early_stopping = EarlyStopping(\n",
    "    monitor='val_loss',  # metric to monitor\n",
    "    patience=5,          # epochs with no improvement after which training will stop\n",
    "    mode='min',          # mode for min loss; 'max' if maximizing metric\n",
    "    min_delta=0.001      # minimum change to qualify as an improvement\n",
    ")\n",
    "\n",
    "trainer = Trainer(\n",
    "    callbacks=[early_stopping, checkpoint],\n",
    "    max_epochs=50,\n",
    ")\n",
    "mlp.train()\n",
    "TRAIN = False\n",
    "# TRAIN = True\n",
    "if TRAIN:\n",
    "    trainer.fit(\n",
    "        model=mlp,\n",
    "        train_dataloaders=train_dataloader,\n",
    "        val_dataloaders=val_dataloader,\n",
    "        ckpt_path=\"model1_checkpoints/checkpoint-epoch=15-val_loss=1.3520.ckpt\"\n",
    "    )\n",
    "else:\n",
    "    print(\"LOADING MODEL\")\n",
    "\n",
    "    checkpoint = torch.load(\"model1_checkpoints/epoch=16-val_loss=1.3592.ckpt\", map_location=torch.device('cpu'))  # or 'cuda'\n",
    "\n",
    "    # Load state dict into your model\n",
    "    mlp.load_state_dict(checkpoint['state_dict'])\n",
    "    \n",
    "    summary = summarize(mlp, max_depth=2)  # max_depth controls how deep to show layers\n",
    "    print(summary)\n",
    "\n",
    "mlp.eval()"
   ]
  },
  {
   "cell_type": "markdown",
   "metadata": {},
   "source": [
    "Os parâmetros dados são sugestões. Você agora pode testar o seu modelo, por exemplo, com:"
   ]
  },
  {
   "cell_type": "code",
   "execution_count": 6,
   "metadata": {},
   "outputs": [
    {
     "name": "stderr",
     "output_type": "stream",
     "text": [
      "c:\\Python311\\Lib\\site-packages\\pytorch_lightning\\trainer\\connectors\\data_connector.py:420: Consider setting `persistent_workers=True` in 'test_dataloader' to speed up the dataloader worker initialization.\n"
     ]
    },
    {
     "data": {
      "application/vnd.jupyter.widget-view+json": {
       "model_id": "bac6ced0ecb74250b1264ed4d9e41b35",
       "version_major": 2,
       "version_minor": 0
      },
      "text/plain": [
       "Testing: |          | 0/? [00:00<?, ?it/s]"
      ]
     },
     "metadata": {},
     "output_type": "display_data"
    },
    {
     "name": "stdout",
     "output_type": "stream",
     "text": [
      "────────────────────────────────────────────────────────────────────────────────────────────────────────────────────────\n",
      "       Test metric             DataLoader 0\n",
      "────────────────────────────────────────────────────────────────────────────────────────────────────────────────────────\n",
      "        test_acc            0.5370000004768372\n",
      "        test_loss            1.365114688873291\n",
      "────────────────────────────────────────────────────────────────────────────────────────────────────────────────────────\n"
     ]
    },
    {
     "data": {
      "text/plain": [
       "[{'test_acc': 0.5370000004768372, 'test_loss': 1.365114688873291}]"
      ]
     },
     "execution_count": 6,
     "metadata": {},
     "output_type": "execute_result"
    }
   ],
   "source": [
    "# Evaluate the model on the test dataset\n",
    "trainer.test(model=mlp, dataloaders=test_dataloader)"
   ]
  },
  {
   "cell_type": "markdown",
   "metadata": {},
   "source": [
    "Mais uma vez, procure realizar ajustes, mas não espere um bom desempenho. Como dissemos, é um problema complexo de classificação de\n",
    "imagem, e é difícil fazer o MLP funcionar sozinho. Precisamos de um pré-processamento com base em uma rede convolucional.\n",
    "\n",
    "## 3. Uso da rede VGG16 pré-treinada\n",
    "\n",
    "Lembre-se que a rede VGG usa como bloco básico cascata de convoluções com filtros 3x3, com \"padding\" para que a imagem não seja\n",
    "diminuída, seguida de um \"max pooling\" reduzindo imagens pela metade. O número de mapas vai aumentando e seu tamanho vai diminuindo\n",
    "ao longo de suas 16 camadas. Este é um modelo gigantesco e o treinamento com recursos computacionais modestos levaria dias ou\n",
    "semanas, se é que fosse possível.\n",
    "\n",
    "No entanto, vamos aproveitar uma característica central das grandes redes convolucionais. Elas podem ser usadas como pré-processamento\n",
    "fixo das imagens, mesmo em um novo problema (lembre-se, a rede VGG original foi treinada na base ImageNet, que tem muitas categorias de\n",
    "imagens).\n",
    "\n",
    "O código abaixo realiza o download do modelo treinado e configura os seus parâmetros como não ajustáveis."
   ]
  },
  {
   "cell_type": "code",
   "execution_count": 7,
   "metadata": {
    "colab": {
     "base_uri": "https://localhost:8080/"
    },
    "executionInfo": {
     "elapsed": 5712,
     "status": "ok",
     "timestamp": 1699914381473,
     "user": {
      "displayName": "Alexandre Romariz",
      "userId": "08294063804806616136"
     },
     "user_tz": 180
    },
    "id": "WP-b_vl6wH0n",
    "outputId": "9714941f-823b-4d1c-e16a-63bec1ca3bcb"
   },
   "outputs": [
    {
     "name": "stdout",
     "output_type": "stream",
     "text": [
      "VGG(\n",
      "  (features): Sequential(\n",
      "    (0): Conv2d(3, 64, kernel_size=(3, 3), stride=(1, 1), padding=(1, 1))\n",
      "    (1): ReLU(inplace=True)\n",
      "    (2): Conv2d(64, 64, kernel_size=(3, 3), stride=(1, 1), padding=(1, 1))\n",
      "    (3): ReLU(inplace=True)\n",
      "    (4): MaxPool2d(kernel_size=2, stride=2, padding=0, dilation=1, ceil_mode=False)\n",
      "    (5): Conv2d(64, 128, kernel_size=(3, 3), stride=(1, 1), padding=(1, 1))\n",
      "    (6): ReLU(inplace=True)\n",
      "    (7): Conv2d(128, 128, kernel_size=(3, 3), stride=(1, 1), padding=(1, 1))\n",
      "    (8): ReLU(inplace=True)\n",
      "    (9): MaxPool2d(kernel_size=2, stride=2, padding=0, dilation=1, ceil_mode=False)\n",
      "    (10): Conv2d(128, 256, kernel_size=(3, 3), stride=(1, 1), padding=(1, 1))\n",
      "    (11): ReLU(inplace=True)\n",
      "    (12): Conv2d(256, 256, kernel_size=(3, 3), stride=(1, 1), padding=(1, 1))\n",
      "    (13): ReLU(inplace=True)\n",
      "    (14): Conv2d(256, 256, kernel_size=(3, 3), stride=(1, 1), padding=(1, 1))\n",
      "    (15): ReLU(inplace=True)\n",
      "    (16): MaxPool2d(kernel_size=2, stride=2, padding=0, dilation=1, ceil_mode=False)\n",
      "    (17): Conv2d(256, 512, kernel_size=(3, 3), stride=(1, 1), padding=(1, 1))\n",
      "    (18): ReLU(inplace=True)\n",
      "    (19): Conv2d(512, 512, kernel_size=(3, 3), stride=(1, 1), padding=(1, 1))\n",
      "    (20): ReLU(inplace=True)\n",
      "    (21): Conv2d(512, 512, kernel_size=(3, 3), stride=(1, 1), padding=(1, 1))\n",
      "    (22): ReLU(inplace=True)\n",
      "    (23): MaxPool2d(kernel_size=2, stride=2, padding=0, dilation=1, ceil_mode=False)\n",
      "    (24): Conv2d(512, 512, kernel_size=(3, 3), stride=(1, 1), padding=(1, 1))\n",
      "    (25): ReLU(inplace=True)\n",
      "    (26): Conv2d(512, 512, kernel_size=(3, 3), stride=(1, 1), padding=(1, 1))\n",
      "    (27): ReLU(inplace=True)\n",
      "    (28): Conv2d(512, 512, kernel_size=(3, 3), stride=(1, 1), padding=(1, 1))\n",
      "    (29): ReLU(inplace=True)\n",
      "    (30): MaxPool2d(kernel_size=2, stride=2, padding=0, dilation=1, ceil_mode=False)\n",
      "  )\n",
      "  (avgpool): AdaptiveAvgPool2d(output_size=(7, 7))\n",
      "  (classifier): Sequential(\n",
      "    (0): Linear(in_features=25088, out_features=4096, bias=True)\n",
      "    (1): ReLU(inplace=True)\n",
      "    (2): Dropout(p=0.5, inplace=False)\n",
      "    (3): Linear(in_features=4096, out_features=4096, bias=True)\n",
      "    (4): ReLU(inplace=True)\n",
      "    (5): Dropout(p=0.5, inplace=False)\n",
      "    (6): Linear(in_features=4096, out_features=1000, bias=True)\n",
      "  )\n",
      ")\n"
     ]
    }
   ],
   "source": [
    "from torchvision.models import vgg16\n",
    "vgg16_model = vgg16(weights=\"DEFAULT\", progress=True)\n",
    "\n",
    "for param in vgg16_model.parameters():\n",
    "\tparam.requires_grad = False\n",
    "\n",
    "print(vgg16_model)"
   ]
  },
  {
   "cell_type": "markdown",
   "metadata": {},
   "source": [
    "Redefine o classificador da VGG16 para três camadas lineares (50, 20 e 10 neurônios) com ReLU, adaptando a saída para 10 classes do CIFAR-10. Apenas os parâmetros do classificador são ajustáveis no treinamento. O modelo é então encapsulado na classe `LightModel` para uso com PyTorch Lightning."
   ]
  },
  {
   "cell_type": "code",
   "execution_count": 8,
   "metadata": {},
   "outputs": [
    {
     "name": "stdout",
     "output_type": "stream",
     "text": [
      "Sequential(\n",
      "  (0): Linear(in_features=25088, out_features=4096, bias=True)\n",
      "  (1): ReLU(inplace=True)\n",
      "  (2): Dropout(p=0.5, inplace=False)\n",
      "  (3): Linear(in_features=4096, out_features=4096, bias=True)\n",
      "  (4): ReLU(inplace=True)\n",
      "  (5): Dropout(p=0.5, inplace=False)\n",
      "  (6): Linear(in_features=4096, out_features=1000, bias=True)\n",
      ")\n",
      "Sequential(\n",
      "  (0): Linear(in_features=25088, out_features=50, bias=True)\n",
      "  (1): ReLU()\n",
      "  (2): Linear(in_features=50, out_features=20, bias=True)\n",
      "  (3): ReLU()\n",
      "  (4): Linear(in_features=20, out_features=10, bias=True)\n",
      ")\n"
     ]
    }
   ],
   "source": [
    "import torch.nn as nn\n",
    "\n",
    "print(vgg16_model.classifier)\n",
    "vgg16_model.classifier = nn.Sequential(\n",
    "    # nn.Flatten(),\n",
    "    nn.Linear(25088, 50),\n",
    "    nn.ReLU(),\n",
    "    nn.Linear(50, 20),\n",
    "    nn.ReLU(),\n",
    "    nn.Linear(20, 10)\n",
    ")\n",
    "\n",
    "# make sure we unfreeze here for training:\n",
    "for param in vgg16_model.classifier.parameters():\n",
    "    param.requires_grad = True\n",
    "\n",
    "print(vgg16_model.classifier)\n",
    "\n",
    "cnn = LightModel(vgg16_model)"
   ]
  },
  {
   "cell_type": "markdown",
   "metadata": {},
   "source": [
    "Configura o treinamento do modelo com PyTorch Lightning, usando early stopping para evitar sobreajuste e checkpoints para salvar o progresso. Se `TRAIN` for verdadeiro, treina o modelo; caso contrário, carrega um checkpoint salvo e exibe o resumo da arquitetura."
   ]
  },
  {
   "cell_type": "code",
   "execution_count": 9,
   "metadata": {
    "scrolled": true
   },
   "outputs": [
    {
     "name": "stderr",
     "output_type": "stream",
     "text": [
      "GPU available: False, used: False\n",
      "TPU available: False, using: 0 TPU cores\n",
      "HPU available: False, using: 0 HPUs\n"
     ]
    },
    {
     "name": "stdout",
     "output_type": "stream",
     "text": [
      "LOADING MODEL\n",
      "  | Name             | Type              | Params | Mode \n",
      "---------------------------------------------------------------\n",
      "0 | model            | VGG               | 16.0 M | train\n",
      "1 | model.features   | Sequential        | 14.7 M | train\n",
      "2 | model.avgpool    | AdaptiveAvgPool2d | 0      | train\n",
      "3 | model.classifier | Sequential        | 1.3 M  | train\n",
      "---------------------------------------------------------------\n",
      "1.3 M     Trainable params\n",
      "14.7 M    Non-trainable params\n",
      "16.0 M    Total params\n",
      "63.881    Total estimated model params size (MB)\n",
      "40        Modules in train mode\n",
      "0         Modules in eval mode\n"
     ]
    },
    {
     "data": {
      "text/plain": [
       "LightModel(\n",
       "  (model): VGG(\n",
       "    (features): Sequential(\n",
       "      (0): Conv2d(3, 64, kernel_size=(3, 3), stride=(1, 1), padding=(1, 1))\n",
       "      (1): ReLU(inplace=True)\n",
       "      (2): Conv2d(64, 64, kernel_size=(3, 3), stride=(1, 1), padding=(1, 1))\n",
       "      (3): ReLU(inplace=True)\n",
       "      (4): MaxPool2d(kernel_size=2, stride=2, padding=0, dilation=1, ceil_mode=False)\n",
       "      (5): Conv2d(64, 128, kernel_size=(3, 3), stride=(1, 1), padding=(1, 1))\n",
       "      (6): ReLU(inplace=True)\n",
       "      (7): Conv2d(128, 128, kernel_size=(3, 3), stride=(1, 1), padding=(1, 1))\n",
       "      (8): ReLU(inplace=True)\n",
       "      (9): MaxPool2d(kernel_size=2, stride=2, padding=0, dilation=1, ceil_mode=False)\n",
       "      (10): Conv2d(128, 256, kernel_size=(3, 3), stride=(1, 1), padding=(1, 1))\n",
       "      (11): ReLU(inplace=True)\n",
       "      (12): Conv2d(256, 256, kernel_size=(3, 3), stride=(1, 1), padding=(1, 1))\n",
       "      (13): ReLU(inplace=True)\n",
       "      (14): Conv2d(256, 256, kernel_size=(3, 3), stride=(1, 1), padding=(1, 1))\n",
       "      (15): ReLU(inplace=True)\n",
       "      (16): MaxPool2d(kernel_size=2, stride=2, padding=0, dilation=1, ceil_mode=False)\n",
       "      (17): Conv2d(256, 512, kernel_size=(3, 3), stride=(1, 1), padding=(1, 1))\n",
       "      (18): ReLU(inplace=True)\n",
       "      (19): Conv2d(512, 512, kernel_size=(3, 3), stride=(1, 1), padding=(1, 1))\n",
       "      (20): ReLU(inplace=True)\n",
       "      (21): Conv2d(512, 512, kernel_size=(3, 3), stride=(1, 1), padding=(1, 1))\n",
       "      (22): ReLU(inplace=True)\n",
       "      (23): MaxPool2d(kernel_size=2, stride=2, padding=0, dilation=1, ceil_mode=False)\n",
       "      (24): Conv2d(512, 512, kernel_size=(3, 3), stride=(1, 1), padding=(1, 1))\n",
       "      (25): ReLU(inplace=True)\n",
       "      (26): Conv2d(512, 512, kernel_size=(3, 3), stride=(1, 1), padding=(1, 1))\n",
       "      (27): ReLU(inplace=True)\n",
       "      (28): Conv2d(512, 512, kernel_size=(3, 3), stride=(1, 1), padding=(1, 1))\n",
       "      (29): ReLU(inplace=True)\n",
       "      (30): MaxPool2d(kernel_size=2, stride=2, padding=0, dilation=1, ceil_mode=False)\n",
       "    )\n",
       "    (avgpool): AdaptiveAvgPool2d(output_size=(7, 7))\n",
       "    (classifier): Sequential(\n",
       "      (0): Linear(in_features=25088, out_features=50, bias=True)\n",
       "      (1): ReLU()\n",
       "      (2): Linear(in_features=50, out_features=20, bias=True)\n",
       "      (3): ReLU()\n",
       "      (4): Linear(in_features=20, out_features=10, bias=True)\n",
       "    )\n",
       "  )\n",
       ")"
      ]
     },
     "execution_count": 9,
     "metadata": {},
     "output_type": "execute_result"
    }
   ],
   "source": [
    "from pytorch_lightning.callbacks import EarlyStopping, ModelCheckpoint\n",
    "from pytorch_lightning import Trainer\n",
    "from pytorch_lightning.utilities.model_summary import summarize\n",
    "\n",
    "checkpoint = LastNCheckpoints(\n",
    "    dirpath='model2_checkpoints/',\n",
    "    filename='{epoch:02d}-{val_loss:.4f}',\n",
    "    every_n_epochs=1,  # Save every epoch\n",
    "    save_top_k=-1  # Save ALL checkpoints\n",
    ")\n",
    "\n",
    "early_stopping = EarlyStopping(\n",
    "    monitor='val_loss',  # metric to monitor\n",
    "    patience=5,          # epochs with no improvement after which training will stop\n",
    "    mode='min',          # mode for min loss; 'max' if maximizing metric\n",
    "    min_delta=0.001      # minimum change to qualify as an improvement\n",
    ")\n",
    "\n",
    "trainer = Trainer(\n",
    "    callbacks=[early_stopping, checkpoint],\n",
    "    max_epochs=50,\n",
    ")\n",
    "\n",
    "cnn.train()\n",
    "\n",
    "TRAIN = False\n",
    "# TRAIN = True\n",
    "if TRAIN:\n",
    "    trainer.fit(\n",
    "        model=cnn,\n",
    "        train_dataloaders=train_dataloader,\n",
    "        val_dataloaders=val_dataloader,\n",
    "        # ckpt_path=\"model2_checkpoints/checkpoint-epoch=15-val_loss=1.3520.ckpt\"\n",
    "    )\n",
    "else:\n",
    "    print(\"LOADING MODEL\")\n",
    "\n",
    "    checkpoint = torch.load(\n",
    "        \"model2_checkpoints/epoch=34-val_loss=0.4055.ckpt\",\n",
    "        map_location=torch.device('cpu')\n",
    "    )  # or 'cuda'\n",
    "    \n",
    "    # Load state dict into your model\n",
    "    cnn.load_state_dict(checkpoint['state_dict'])\n",
    "\n",
    "    summary = summarize(cnn, max_depth=2)  # max_depth controls how deep to show layers\n",
    "    print(summary)\n",
    "\n",
    "cnn.eval()"
   ]
  },
  {
   "cell_type": "markdown",
   "metadata": {},
   "source": [
    "### Avalia o modelo"
   ]
  },
  {
   "cell_type": "code",
   "execution_count": 10,
   "metadata": {},
   "outputs": [
    {
     "data": {
      "application/vnd.jupyter.widget-view+json": {
       "model_id": "f8de01e7588846aa9683e98f2e09e26a",
       "version_major": 2,
       "version_minor": 0
      },
      "text/plain": [
       "Testing: |          | 0/? [00:00<?, ?it/s]"
      ]
     },
     "metadata": {},
     "output_type": "display_data"
    },
    {
     "name": "stdout",
     "output_type": "stream",
     "text": [
      "────────────────────────────────────────────────────────────────────────────────────────────────────────────────────────\n",
      "       Test metric             DataLoader 0\n",
      "────────────────────────────────────────────────────────────────────────────────────────────────────────────────────────\n",
      "        test_acc             0.859499990940094\n",
      "        test_loss            0.420192688703537\n",
      "────────────────────────────────────────────────────────────────────────────────────────────────────────────────────────\n"
     ]
    },
    {
     "data": {
      "text/plain": [
       "[{'test_acc': 0.859499990940094, 'test_loss': 0.420192688703537}]"
      ]
     },
     "execution_count": 10,
     "metadata": {},
     "output_type": "execute_result"
    }
   ],
   "source": [
    "trainer.test(model=cnn, dataloaders=test_dataloader)"
   ]
  },
  {
   "cell_type": "markdown",
   "metadata": {},
   "source": [
    "## 4. Transfer Learning com ResNet18\n",
    "\n",
    "Agora, vamos testar o uso de outra rede convolucional pré-treinada como base para o nosso classificador. Em vez da VGG16, utilizaremos a **ResNet18**, que é uma arquitetura moderna e eficiente, bastante utilizada em tarefas de visão computacional.\n",
    "\n",
    "Assim como antes, vamos ajustar apenas o classificador final para as 10 classes do CIFAR-10 e aplicar **regularização L2 (weight decay)** durante o treinamento, buscando reduzir o sobreajuste e melhorar a generalização do modelo.\n"
   ]
  },
  {
   "cell_type": "code",
   "execution_count": 14,
   "metadata": {},
   "outputs": [],
   "source": [
    "from torchvision.models import resnet18\n",
    "\n",
    "# Carrega a ResNet18 pré-treinada\n",
    "resnet = resnet18(weights='IMAGENET1K_V1')\n"
   ]
  },
  {
   "cell_type": "code",
   "execution_count": 15,
   "metadata": {},
   "outputs": [],
   "source": [
    "import torch.nn as nn\n",
    "\n",
    "# Congela todas as camadas convolucionais\n",
    "for param in resnet.parameters():\n",
    "    param.requires_grad = False\n",
    "\n",
    "# Substitui o classificador final para 10 classes (CIFAR-10)\n",
    "num_ftrs = resnet.fc.in_features\n",
    "resnet.fc = nn.Linear(num_ftrs, 10)"
   ]
  },
  {
   "cell_type": "markdown",
   "metadata": {},
   "source": [
    "Abaixo, definimos a classe `LightModel` para usar a `ResNet18` no framework do PyTorch Lightning, agora com `weight_decay` (L2 regularização) configurado no otimizador.\n"
   ]
  },
  {
   "cell_type": "code",
   "execution_count": 16,
   "metadata": {},
   "outputs": [],
   "source": [
    "class LightModelResNet(pl.LightningModule):\n",
    "    def __init__(self, model, lr=1e-4, weight_decay=1e-2):\n",
    "        super().__init__()\n",
    "        self.model = model\n",
    "        self.lr = lr\n",
    "        self.weight_decay = weight_decay\n",
    "\n",
    "    def training_step(self, batch, batch_idx):\n",
    "        X, y = batch\n",
    "        y_hat = self.model(X)\n",
    "        loss = nn.functional.cross_entropy(y_hat, y)\n",
    "        self.log(\"train_loss\", loss)\n",
    "        return loss\n",
    "\n",
    "    def validation_step(self, batch, batch_idx):\n",
    "        X, y = batch\n",
    "        y_hat = self.model(X)\n",
    "        loss = nn.functional.cross_entropy(y_hat, y)\n",
    "        self.log(\"val_loss\", loss)\n",
    "        return loss\n",
    "\n",
    "    def test_step(self, batch, batch_idx):\n",
    "        X, y = batch\n",
    "        y_hat = self.model(X)\n",
    "        preds = torch.argmax(y_hat, dim=1)\n",
    "        acc = accuracy(preds, y, task=\"multiclass\", num_classes=10)\n",
    "        loss = nn.functional.cross_entropy(y_hat, y)\n",
    "        self.log(\"test_acc\", acc)\n",
    "        self.log(\"test_loss\", loss)\n",
    "\n",
    "    def configure_optimizers(self):\n",
    "        optimizer = torch.optim.Adam(\n",
    "            self.parameters(), \n",
    "            lr=self.lr, \n",
    "            weight_decay=self.weight_decay\n",
    "        )\n",
    "        return optimizer\n"
   ]
  },
  {
   "cell_type": "code",
   "execution_count": 17,
   "metadata": {},
   "outputs": [
    {
     "name": "stderr",
     "output_type": "stream",
     "text": [
      "Using default `ModelCheckpoint`. Consider installing `litmodels` package to enable `LitModelCheckpoint` for automatic upload to the Lightning model registry.\n",
      "GPU available: False, used: False\n",
      "TPU available: False, using: 0 TPU cores\n",
      "HPU available: False, using: 0 HPUs\n",
      "\n",
      "  | Name  | Type   | Params | Mode \n",
      "-----------------------------------------\n",
      "0 | model | ResNet | 11.2 M | train\n",
      "-----------------------------------------\n",
      "5.1 K     Trainable params\n",
      "11.2 M    Non-trainable params\n",
      "11.2 M    Total params\n",
      "44.727    Total estimated model params size (MB)\n",
      "68        Modules in train mode\n",
      "0         Modules in eval mode\n"
     ]
    },
    {
     "data": {
      "application/vnd.jupyter.widget-view+json": {
       "model_id": "d49fdc49ed2341e5890322bf7302250e",
       "version_major": 2,
       "version_minor": 0
      },
      "text/plain": [
       "Sanity Checking: |          | 0/? [00:00<?, ?it/s]"
      ]
     },
     "metadata": {},
     "output_type": "display_data"
    },
    {
     "name": "stderr",
     "output_type": "stream",
     "text": [
      "c:\\Python311\\Lib\\site-packages\\pytorch_lightning\\trainer\\connectors\\data_connector.py:420: Consider setting `persistent_workers=True` in 'val_dataloader' to speed up the dataloader worker initialization.\n",
      "c:\\Python311\\Lib\\site-packages\\pytorch_lightning\\trainer\\connectors\\data_connector.py:420: Consider setting `persistent_workers=True` in 'train_dataloader' to speed up the dataloader worker initialization.\n"
     ]
    },
    {
     "data": {
      "application/vnd.jupyter.widget-view+json": {
       "model_id": "c6d5949fb4864896b43b276ca0bfd70e",
       "version_major": 2,
       "version_minor": 0
      },
      "text/plain": [
       "Training: |          | 0/? [00:00<?, ?it/s]"
      ]
     },
     "metadata": {},
     "output_type": "display_data"
    },
    {
     "data": {
      "application/vnd.jupyter.widget-view+json": {
       "model_id": "abf5aa3a535249be99b441393de7b44d",
       "version_major": 2,
       "version_minor": 0
      },
      "text/plain": [
       "Validation: |          | 0/? [00:00<?, ?it/s]"
      ]
     },
     "metadata": {},
     "output_type": "display_data"
    },
    {
     "data": {
      "application/vnd.jupyter.widget-view+json": {
       "model_id": "dda0dadcb0db4cddbaee3cbf0ca03c3d",
       "version_major": 2,
       "version_minor": 0
      },
      "text/plain": [
       "Validation: |          | 0/? [00:00<?, ?it/s]"
      ]
     },
     "metadata": {},
     "output_type": "display_data"
    },
    {
     "data": {
      "application/vnd.jupyter.widget-view+json": {
       "model_id": "502344362e66407a9b520e4baf646142",
       "version_major": 2,
       "version_minor": 0
      },
      "text/plain": [
       "Validation: |          | 0/? [00:00<?, ?it/s]"
      ]
     },
     "metadata": {},
     "output_type": "display_data"
    },
    {
     "data": {
      "application/vnd.jupyter.widget-view+json": {
       "model_id": "0fe05b4d6bbd457fbc8350401dee0cf5",
       "version_major": 2,
       "version_minor": 0
      },
      "text/plain": [
       "Validation: |          | 0/? [00:00<?, ?it/s]"
      ]
     },
     "metadata": {},
     "output_type": "display_data"
    },
    {
     "data": {
      "application/vnd.jupyter.widget-view+json": {
       "model_id": "d74df772c75547fcb8a819716be4a100",
       "version_major": 2,
       "version_minor": 0
      },
      "text/plain": [
       "Validation: |          | 0/? [00:00<?, ?it/s]"
      ]
     },
     "metadata": {},
     "output_type": "display_data"
    },
    {
     "data": {
      "application/vnd.jupyter.widget-view+json": {
       "model_id": "e6c8a25d67b8403382736eb6df6d27f3",
       "version_major": 2,
       "version_minor": 0
      },
      "text/plain": [
       "Validation: |          | 0/? [00:00<?, ?it/s]"
      ]
     },
     "metadata": {},
     "output_type": "display_data"
    },
    {
     "data": {
      "application/vnd.jupyter.widget-view+json": {
       "model_id": "5f10f43768e04e7c8e9cfca3505fc030",
       "version_major": 2,
       "version_minor": 0
      },
      "text/plain": [
       "Validation: |          | 0/? [00:00<?, ?it/s]"
      ]
     },
     "metadata": {},
     "output_type": "display_data"
    },
    {
     "data": {
      "application/vnd.jupyter.widget-view+json": {
       "model_id": "58828f7f7a5f40c6926591e0802d6ba2",
       "version_major": 2,
       "version_minor": 0
      },
      "text/plain": [
       "Validation: |          | 0/? [00:00<?, ?it/s]"
      ]
     },
     "metadata": {},
     "output_type": "display_data"
    },
    {
     "data": {
      "application/vnd.jupyter.widget-view+json": {
       "model_id": "d62833889be44c63a3e4c3b3129c4934",
       "version_major": 2,
       "version_minor": 0
      },
      "text/plain": [
       "Validation: |          | 0/? [00:00<?, ?it/s]"
      ]
     },
     "metadata": {},
     "output_type": "display_data"
    },
    {
     "data": {
      "application/vnd.jupyter.widget-view+json": {
       "model_id": "9e8fa908d8c945038fa0ceb68836eef1",
       "version_major": 2,
       "version_minor": 0
      },
      "text/plain": [
       "Validation: |          | 0/? [00:00<?, ?it/s]"
      ]
     },
     "metadata": {},
     "output_type": "display_data"
    },
    {
     "name": "stderr",
     "output_type": "stream",
     "text": [
      "`Trainer.fit` stopped: `max_epochs=10` reached.\n"
     ]
    }
   ],
   "source": [
    "resnet_model = LightModelResNet(resnet)\n",
    "\n",
    "trainer = pl.Trainer(\n",
    "    max_epochs=10,\n",
    "    accelerator=\"auto\",\n",
    "    devices=1,\n",
    "    enable_progress_bar=True\n",
    ")\n",
    "\n",
    "trainer.fit(resnet_model, train_dataloaders=train_dataloader, val_dataloaders=val_dataloader)\n"
   ]
  },
  {
   "cell_type": "code",
   "execution_count": 18,
   "metadata": {},
   "outputs": [
    {
     "data": {
      "application/vnd.jupyter.widget-view+json": {
       "model_id": "374c478d8fda444e80b3f03db3377c54",
       "version_major": 2,
       "version_minor": 0
      },
      "text/plain": [
       "Testing: |          | 0/? [00:00<?, ?it/s]"
      ]
     },
     "metadata": {},
     "output_type": "display_data"
    },
    {
     "name": "stdout",
     "output_type": "stream",
     "text": [
      "────────────────────────────────────────────────────────────────────────────────────────────────────────────────────────\n",
      "       Test metric             DataLoader 0\n",
      "────────────────────────────────────────────────────────────────────────────────────────────────────────────────────────\n",
      "        test_acc            0.7918000221252441\n",
      "        test_loss            0.635003924369812\n",
      "────────────────────────────────────────────────────────────────────────────────────────────────────────────────────────\n"
     ]
    },
    {
     "data": {
      "text/plain": [
       "[{'test_acc': 0.7918000221252441, 'test_loss': 0.635003924369812}]"
      ]
     },
     "execution_count": 18,
     "metadata": {},
     "output_type": "execute_result"
    }
   ],
   "source": [
    "trainer.test(resnet_model, dataloaders=test_dataloader)\n"
   ]
  },
  {
   "cell_type": "markdown",
   "metadata": {},
   "source": [
    "## Conclusão\n",
    "\n",
    "Este trabalho teve como objetivo desenvolver e treinar uma rede neural convolucional (CNN) baseada na arquitetura VGG16, utilizando a estrutura do PyTorch Lightning para facilitar o gerenciamento do treinamento e a organização do código.\n",
    "\n",
    "### Principais Etapas\n",
    "\n",
    "- **Preparação dos dados**: Os dados foram carregados, normalizados e divididos em conjuntos de treino, validação e teste. \n",
    "- **Modelagem**: Foi utilizada a arquitetura VGG16 com modificações específicas, encapsulada em uma classe customizada e adaptada ao PyTorch Lightning.\n",
    "- **Treinamento**: O modelo foi treinado com callbacks de *EarlyStopping* para evitar overfitting e *ModelCheckpoint* para salvar os melhores estados do modelo.\n",
    "- **Avaliação**: O modelo com melhor desempenho na validação (`val_loss ≈ 0.4055`) foi carregado e avaliado no conjunto de teste.\n",
    "\n",
    "### Resultados\n",
    "\n",
    "- O uso de técnicas de regularização, como *early stopping*, contribuiu para a estabilidade do treinamento e para a generalização do modelo.\n",
    "- O checkpoint carregado indica que o modelo alcançou um bom equilíbrio entre performance e generalização, evitando overfitting.\n",
    "- O resumo da arquitetura mostrou que o modelo possui uma estrutura profunda, adequada para tarefas de classificação complexas.\n",
    "\n",
    "### Considerações Finais\n",
    "\n",
    "O experimento demonstrou que é possível adaptar arquiteturas consagradas, como a VGG16, a diferentes conjuntos de dados e problemas utilizando ferramentas modernas como PyTorch Lightning. O pipeline implementado é modular, reutilizável e preparado para experimentos futuros com diferentes arquiteturas, hiperparâmetros e estratégias de treinamento.\n",
    "\n"
   ]
  }
 ],
 "metadata": {
  "colab": {
   "authorship_tag": "ABX9TyME48Gv3/ej0y2TyzIHwS+K",
   "provenance": []
  },
  "kernelspec": {
   "display_name": "Python 3",
   "language": "python",
   "name": "python3"
  },
  "language_info": {
   "codemirror_mode": {
    "name": "ipython",
    "version": 3
   },
   "file_extension": ".py",
   "mimetype": "text/x-python",
   "name": "python",
   "nbconvert_exporter": "python",
   "pygments_lexer": "ipython3",
   "version": "3.11.0"
  },
  "widgets": {
   "application/vnd.jupyter.widget-state+json": {
    "006e39be5baa48efa5f6a764794ac88a": {
     "model_module": "@jupyter-widgets/controls",
     "model_module_version": "1.5.0",
     "model_name": "HTMLModel",
     "state": {
      "_dom_classes": [],
      "_model_module": "@jupyter-widgets/controls",
      "_model_module_version": "1.5.0",
      "_model_name": "HTMLModel",
      "_view_count": null,
      "_view_module": "@jupyter-widgets/controls",
      "_view_module_version": "1.5.0",
      "_view_name": "HTMLView",
      "description": "",
      "description_tooltip": null,
      "layout": "IPY_MODEL_831cd354b1e940029462d8ca6bbbb2da",
      "placeholder": "​",
      "style": "IPY_MODEL_522ff35e6a3b48789e4f907fa64c6267",
      "value": " 5/5 [00:02&lt;00:00,  1.75 file/s]"
     }
    },
    "1cfef9f82b7d49898c0e8ae5846d4f29": {
     "model_module": "@jupyter-widgets/controls",
     "model_module_version": "1.5.0",
     "model_name": "DescriptionStyleModel",
     "state": {
      "_model_module": "@jupyter-widgets/controls",
      "_model_module_version": "1.5.0",
      "_model_name": "DescriptionStyleModel",
      "_view_count": null,
      "_view_module": "@jupyter-widgets/base",
      "_view_module_version": "1.2.0",
      "_view_name": "StyleView",
      "description_width": ""
     }
    },
    "337cb9bac56348ecb28cf342cbf6b204": {
     "model_module": "@jupyter-widgets/controls",
     "model_module_version": "1.5.0",
     "model_name": "HBoxModel",
     "state": {
      "_dom_classes": [],
      "_model_module": "@jupyter-widgets/controls",
      "_model_module_version": "1.5.0",
      "_model_name": "HBoxModel",
      "_view_count": null,
      "_view_module": "@jupyter-widgets/controls",
      "_view_module_version": "1.5.0",
      "_view_name": "HBoxView",
      "box_style": "",
      "children": [
       "IPY_MODEL_efd38707eb0a4ac4b875626cd1f89eed",
       "IPY_MODEL_ccd55a62cefb468c8a2483fd840744ad",
       "IPY_MODEL_006e39be5baa48efa5f6a764794ac88a"
      ],
      "layout": "IPY_MODEL_56a44b3f23a145599a1ead5f4863ae5a"
     }
    },
    "522ff35e6a3b48789e4f907fa64c6267": {
     "model_module": "@jupyter-widgets/controls",
     "model_module_version": "1.5.0",
     "model_name": "DescriptionStyleModel",
     "state": {
      "_model_module": "@jupyter-widgets/controls",
      "_model_module_version": "1.5.0",
      "_model_name": "DescriptionStyleModel",
      "_view_count": null,
      "_view_module": "@jupyter-widgets/base",
      "_view_module_version": "1.2.0",
      "_view_name": "StyleView",
      "description_width": ""
     }
    },
    "56a44b3f23a145599a1ead5f4863ae5a": {
     "model_module": "@jupyter-widgets/base",
     "model_module_version": "1.2.0",
     "model_name": "LayoutModel",
     "state": {
      "_model_module": "@jupyter-widgets/base",
      "_model_module_version": "1.2.0",
      "_model_name": "LayoutModel",
      "_view_count": null,
      "_view_module": "@jupyter-widgets/base",
      "_view_module_version": "1.2.0",
      "_view_name": "LayoutView",
      "align_content": null,
      "align_items": null,
      "align_self": null,
      "border": null,
      "bottom": null,
      "display": null,
      "flex": null,
      "flex_flow": null,
      "grid_area": null,
      "grid_auto_columns": null,
      "grid_auto_flow": null,
      "grid_auto_rows": null,
      "grid_column": null,
      "grid_gap": null,
      "grid_row": null,
      "grid_template_areas": null,
      "grid_template_columns": null,
      "grid_template_rows": null,
      "height": null,
      "justify_content": null,
      "justify_items": null,
      "left": null,
      "margin": null,
      "max_height": null,
      "max_width": null,
      "min_height": null,
      "min_width": null,
      "object_fit": null,
      "object_position": null,
      "order": null,
      "overflow": null,
      "overflow_x": null,
      "overflow_y": null,
      "padding": null,
      "right": null,
      "top": null,
      "visibility": null,
      "width": null
     }
    },
    "831cd354b1e940029462d8ca6bbbb2da": {
     "model_module": "@jupyter-widgets/base",
     "model_module_version": "1.2.0",
     "model_name": "LayoutModel",
     "state": {
      "_model_module": "@jupyter-widgets/base",
      "_model_module_version": "1.2.0",
      "_model_name": "LayoutModel",
      "_view_count": null,
      "_view_module": "@jupyter-widgets/base",
      "_view_module_version": "1.2.0",
      "_view_name": "LayoutView",
      "align_content": null,
      "align_items": null,
      "align_self": null,
      "border": null,
      "bottom": null,
      "display": null,
      "flex": null,
      "flex_flow": null,
      "grid_area": null,
      "grid_auto_columns": null,
      "grid_auto_flow": null,
      "grid_auto_rows": null,
      "grid_column": null,
      "grid_gap": null,
      "grid_row": null,
      "grid_template_areas": null,
      "grid_template_columns": null,
      "grid_template_rows": null,
      "height": null,
      "justify_content": null,
      "justify_items": null,
      "left": null,
      "margin": null,
      "max_height": null,
      "max_width": null,
      "min_height": null,
      "min_width": null,
      "object_fit": null,
      "object_position": null,
      "order": null,
      "overflow": null,
      "overflow_x": null,
      "overflow_y": null,
      "padding": null,
      "right": null,
      "top": null,
      "visibility": null,
      "width": null
     }
    },
    "89dc8b13a44748378faca300b8431842": {
     "model_module": "@jupyter-widgets/base",
     "model_module_version": "1.2.0",
     "model_name": "LayoutModel",
     "state": {
      "_model_module": "@jupyter-widgets/base",
      "_model_module_version": "1.2.0",
      "_model_name": "LayoutModel",
      "_view_count": null,
      "_view_module": "@jupyter-widgets/base",
      "_view_module_version": "1.2.0",
      "_view_name": "LayoutView",
      "align_content": null,
      "align_items": null,
      "align_self": null,
      "border": null,
      "bottom": null,
      "display": null,
      "flex": null,
      "flex_flow": null,
      "grid_area": null,
      "grid_auto_columns": null,
      "grid_auto_flow": null,
      "grid_auto_rows": null,
      "grid_column": null,
      "grid_gap": null,
      "grid_row": null,
      "grid_template_areas": null,
      "grid_template_columns": null,
      "grid_template_rows": null,
      "height": null,
      "justify_content": null,
      "justify_items": null,
      "left": null,
      "margin": null,
      "max_height": null,
      "max_width": null,
      "min_height": null,
      "min_width": null,
      "object_fit": null,
      "object_position": null,
      "order": null,
      "overflow": null,
      "overflow_x": null,
      "overflow_y": null,
      "padding": null,
      "right": null,
      "top": null,
      "visibility": null,
      "width": null
     }
    },
    "ccd55a62cefb468c8a2483fd840744ad": {
     "model_module": "@jupyter-widgets/controls",
     "model_module_version": "1.5.0",
     "model_name": "FloatProgressModel",
     "state": {
      "_dom_classes": [],
      "_model_module": "@jupyter-widgets/controls",
      "_model_module_version": "1.5.0",
      "_model_name": "FloatProgressModel",
      "_view_count": null,
      "_view_module": "@jupyter-widgets/controls",
      "_view_module_version": "1.5.0",
      "_view_name": "ProgressView",
      "bar_style": "success",
      "description": "",
      "description_tooltip": null,
      "layout": "IPY_MODEL_89dc8b13a44748378faca300b8431842",
      "max": 5,
      "min": 0,
      "orientation": "horizontal",
      "style": "IPY_MODEL_e7973d1aef464f82a1b24f67028f5720",
      "value": 5
     }
    },
    "e7973d1aef464f82a1b24f67028f5720": {
     "model_module": "@jupyter-widgets/controls",
     "model_module_version": "1.5.0",
     "model_name": "ProgressStyleModel",
     "state": {
      "_model_module": "@jupyter-widgets/controls",
      "_model_module_version": "1.5.0",
      "_model_name": "ProgressStyleModel",
      "_view_count": null,
      "_view_module": "@jupyter-widgets/base",
      "_view_module_version": "1.2.0",
      "_view_name": "StyleView",
      "bar_color": null,
      "description_width": ""
     }
    },
    "efd38707eb0a4ac4b875626cd1f89eed": {
     "model_module": "@jupyter-widgets/controls",
     "model_module_version": "1.5.0",
     "model_name": "HTMLModel",
     "state": {
      "_dom_classes": [],
      "_model_module": "@jupyter-widgets/controls",
      "_model_module_version": "1.5.0",
      "_model_name": "HTMLModel",
      "_view_count": null,
      "_view_module": "@jupyter-widgets/controls",
      "_view_module_version": "1.5.0",
      "_view_name": "HTMLView",
      "description": "",
      "description_tooltip": null,
      "layout": "IPY_MODEL_f2014973acc24cc0a2b740e53557f1b7",
      "placeholder": "​",
      "style": "IPY_MODEL_1cfef9f82b7d49898c0e8ae5846d4f29",
      "value": "Dl Completed...: 100%"
     }
    },
    "f2014973acc24cc0a2b740e53557f1b7": {
     "model_module": "@jupyter-widgets/base",
     "model_module_version": "1.2.0",
     "model_name": "LayoutModel",
     "state": {
      "_model_module": "@jupyter-widgets/base",
      "_model_module_version": "1.2.0",
      "_model_name": "LayoutModel",
      "_view_count": null,
      "_view_module": "@jupyter-widgets/base",
      "_view_module_version": "1.2.0",
      "_view_name": "LayoutView",
      "align_content": null,
      "align_items": null,
      "align_self": null,
      "border": null,
      "bottom": null,
      "display": null,
      "flex": null,
      "flex_flow": null,
      "grid_area": null,
      "grid_auto_columns": null,
      "grid_auto_flow": null,
      "grid_auto_rows": null,
      "grid_column": null,
      "grid_gap": null,
      "grid_row": null,
      "grid_template_areas": null,
      "grid_template_columns": null,
      "grid_template_rows": null,
      "height": null,
      "justify_content": null,
      "justify_items": null,
      "left": null,
      "margin": null,
      "max_height": null,
      "max_width": null,
      "min_height": null,
      "min_width": null,
      "object_fit": null,
      "object_position": null,
      "order": null,
      "overflow": null,
      "overflow_x": null,
      "overflow_y": null,
      "padding": null,
      "right": null,
      "top": null,
      "visibility": null,
      "width": null
     }
    }
   }
  }
 },
 "nbformat": 4,
 "nbformat_minor": 4
}
